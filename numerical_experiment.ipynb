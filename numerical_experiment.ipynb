{
 "cells": [
  {
   "cell_type": "markdown",
   "id": "4d48ad36-4982-47e2-a579-b73fd2ce708f",
   "metadata": {},
   "source": [
    "# Computing the Augstin Information via Riemannian Gradient Descent"
   ]
  },
  {
   "cell_type": "code",
   "execution_count": 1,
   "id": "98e6bdb5",
   "metadata": {},
   "outputs": [],
   "source": [
    "import time\n",
    "\n",
    "import numpy as np\n",
    "import matplotlib.pyplot as plt\n",
    "\n",
    "exp = np.exp\n",
    "log = np.log"
   ]
  },
  {
   "cell_type": "markdown",
   "id": "b5760490-ab1d-411e-8989-f6e43a263964",
   "metadata": {},
   "source": [
    "# Modules"
   ]
  },
  {
   "cell_type": "code",
   "execution_count": 2,
   "id": "1726c08b",
   "metadata": {},
   "outputs": [],
   "source": [
    "def get_objective(a, w, alpha=0):\n",
    "    \"\"\" the objective function of the problem of Computing the Augustin information\n",
    "    a: the random variable (P_{Y|X})\n",
    "    w: the weight\n",
    "    alpha: the order\n",
    "    \"\"\"\n",
    "    def objective(x):\n",
    "        return (1/(alpha-1))*sum(w * np.log(np.dot(a**alpha, x**(1-alpha))))\n",
    "        # return (1/(alpha-1))*sum([wi*log(dot(ai**alpha, x**(1-alpha))) for (wi, ai) in zip(w, a)])\n",
    "    return objective\n",
    "\n",
    "## maps\n",
    "def exp_map(x, v, case=\"vector\"):\n",
    "    \"\"\"exponential map\"\"\"\n",
    "    if case == \"vector\":\n",
    "        return x*np.exp(v/x)\n",
    "    \n",
    "def log_map(x, y, case=\"vector\"):\n",
    "    \"\"\"logarithmic map\"\"\"\n",
    "    if case == \"vector\":\n",
    "        return x*np.log(y/x)"
   ]
  },
  {
   "cell_type": "markdown",
   "id": "55d69d56-451d-4ab8-8e07-1d7fe2a7d615",
   "metadata": {},
   "source": [
    "## Algorithms"
   ]
  },
  {
   "cell_type": "code",
   "execution_count": 3,
   "id": "85b61dd1-f41b-480a-a4db-563bc125db94",
   "metadata": {},
   "outputs": [],
   "source": [
    "def gradient(x, a, w, alpha=0):\n",
    "    \"\"\"the gradient of the objective function at x\n",
    "    \"\"\"\n",
    "    if alpha == 0:\n",
    "        a = np.array(a)\n",
    "        # return -sum([wi*ai/np.dot(ai, x) for (ai, wi) in zip(a, w)])\n",
    "    elif alpha != 0:\n",
    "        a = np.array(a)**alpha\n",
    "        # return -sum([wi*ai**alpha*x**(-alpha)/np.dot(ai**alpha, x**(1-alpha)) for (ai, wi) in zip(a, w)])\n",
    "\n",
    "    # make the computation faster (not use for-loop)\n",
    "    return -sum(( ( w / np.dot(a, x**(1-alpha)) ) * (a * x**(-alpha)).T ).T)\n",
    "\n",
    "def get_FP(a, w, alpha=0):\n",
    "    \"\"\"get the fixed-point iteration proposed by Nakiboğlu\"\"\"\n",
    "    def FP(x):\n",
    "        return -x*gradient(x, a, w, alpha)\n",
    "    return FP\n",
    "\n",
    "def get_RGD(a, w, alpha=0):\n",
    "    def RGD(x):\n",
    "        D = len(x)  # parameter dimension\n",
    "        grad = x*x*(np.ones(D)+gradient(x, a, w, alpha))\n",
    "        return exp_map(x, -1/(abs(1-alpha)+1)*grad, \"vector\")\n",
    "    return RGD\n",
    "\n",
    "def get_entropic_mirror_descent(a, w, alpha=0):\n",
    "    \"\"\"a gradient-based method, \n",
    "    it would be used by the methods proposed by Li and Cevher and You et al.\n",
    "    \"\"\"\n",
    "    def entropic_mirror_descent(x, eta):\n",
    "        x_next = x*exp(-eta*gradient(x, a, w, alpha))\n",
    "        return x_next/sum(x_next)\n",
    "    return entropic_mirror_descent\n",
    "\n",
    "def polyak_step_size(x, function_values, gradient_x, delta_t, objective_function, iteration_rule, \\\n",
    "                     delta=1e-14, beta=0.99, gamma=1.25, c=5):\n",
    "    \"\"\"iterate as the method proposed by You et al.\n",
    "    [input]\n",
    "    x               : the current iterate\n",
    "    function_values : previous function values\n",
    "    gradient_x      : the gradient of the obj. func. at the current iterate\n",
    "    delta_t         : a parameter that depends on t (the current iteration number)\n",
    "    delta ~ c       : parameters of this method (see You et al.)\n",
    "    \n",
    "    [output]\n",
    "    x_next          : the next iterate\n",
    "    delta_t_next    : the updated delta_t\n",
    "    \"\"\"\n",
    "    min_f_tilde = min(function_values) - delta_t\n",
    "    gradient_dual_norm = max(gradient_x)\n",
    "    \n",
    "    # Polyak step size\n",
    "    eta_t = (function_values[-1]-min_f_tilde)/(c*gradient_dual_norm**2)\n",
    "    \n",
    "    # entropic mirror descent\n",
    "    x_next = iteration_rule(x, eta_t)\n",
    "    \n",
    "    # updating step size\n",
    "    if objective_function(x_next) <= min_f_tilde:\n",
    "        delta_t_next = gamma*delta_t\n",
    "    else:\n",
    "        delta_t_next = max(beta*delta_t, delta)\n",
    "        \n",
    "    return x_next, delta_t_next"
   ]
  },
  {
   "cell_type": "markdown",
   "id": "d7360a9c-1953-475b-8ae2-15e93ec217f3",
   "metadata": {},
   "source": [
    "## Pack"
   ]
  },
  {
   "cell_type": "code",
   "execution_count": 4,
   "id": "ee91da07-cbac-484d-95a6-d0c97dd89640",
   "metadata": {},
   "outputs": [],
   "source": [
    "def iterating(objective_function, initialization, iteration_rule, T, plot=False, normalization=True):\n",
    "    \"\"\"use the given iteration rule (could be the fixed-point iteration or RGD) to run T iterations\n",
    "    [input]\n",
    "    objective_function  : the objective function\n",
    "    initialization      : the initialization\n",
    "    iteration_rule      : the iteration rule\n",
    "    T                   : the number of iteration\n",
    "    plot                : whether to plot the optimization error\n",
    "    normalization       : whether to normalize iterates when evaluating the function value\n",
    "    \n",
    "    [output]\n",
    "    function_values [list] : function values of all T iteration (inculding the initialization)\n",
    "    iterates        [list] : all iterates\n",
    "    elapsed_time    [list] : elapsed_time[t] is the elapsed time after t itertations\n",
    "    \"\"\"\n",
    "    x = initialization\n",
    "    \n",
    "    function_values = [objective_function(x)]\n",
    "    iterates = [x]\n",
    "    elapsed_time = [0]\n",
    "    start_time = time.time()\n",
    "    \n",
    "    for _ in range(T):\n",
    "        # get the next iterate\n",
    "        x = iteration_rule(x)\n",
    "        iterates.append(x)\n",
    "        \n",
    "        # evaluate the function value\n",
    "        if normalization:\n",
    "            function_values.append(objective_function(x/sum(x)))\n",
    "        else:\n",
    "            function_values.append(objective_function(x))\n",
    "        \n",
    "        # running time\n",
    "        elapsed_time.append(time.time() - start_time)\n",
    "        \n",
    "    if plot:\n",
    "        plotting(function_values, elapsed_time)\n",
    "        \n",
    "    return function_values, iterates, elapsed_time\n",
    "\n",
    "def iterating_polyak(objective_function, initialization, iteration_rule, T, plot=False, normalization=True,\\\n",
    "                    delta=1e-5, beta=0.99, gamma=1.25, c=5):\n",
    "    \"\"\"use the method proposed by You et al. to run T iterations\n",
    "    [input]\n",
    "    same as the input of the function \"iterating\"\n",
    "    delta ~ c : parameters of the method proposed by You et al. (see You et al.)\n",
    "    \n",
    "    [output]\n",
    "    same as the ouptut of the function \"iterating\"\n",
    "    \"\"\"\n",
    "    x = initialization\n",
    "    \n",
    "    function_values = [objective_function(x)]\n",
    "    iterates = [x]\n",
    "    elapsed_time = [0]\n",
    "    start_time = time.time()\n",
    "    \n",
    "    delta_t = 1\n",
    "    delta_ts = [delta_t]\n",
    "    \n",
    "    for _ in range(T):\n",
    "        gradient_x = gradient(x, a, w, alpha)  # gradient at x\n",
    "        \n",
    "        # get the next iterate\n",
    "        x, delta_t = polyak_step_size(x, function_values, gradient_x, delta_t, objective_function, iteration_rule,\n",
    "                                      delta=delta, beta=beta, gamma=gamma, c=c)\n",
    "        iterates.append(x)\n",
    "        delta_ts.append(delta_t)\n",
    "        \n",
    "        # evaluate the function value\n",
    "        if normalization:\n",
    "            function_values.append(objective_function(x/sum(x)))\n",
    "        else:\n",
    "            function_values.append(objective_function(x))\n",
    "            \n",
    "        # running time\n",
    "        elapsed_time.append(time.time() - start_time)\n",
    "        \n",
    "    if plot:\n",
    "        plotting(function_values, elapsed_time)\n",
    "\n",
    "    return function_values, iterates, elapsed_time\n",
    "\n",
    "def iterating_armijo(objective_function, initialization, iteration_rule, T, plot=False, normalization=True,\\\n",
    "                    a_bar=0.4, r=0.7, tau=0.7):\n",
    "    \"\"\"use the method proposed by Li and Cevher to run T iterations\n",
    "    [input]\n",
    "    same as the input of the function \"iterating\"\n",
    "    a_bar, r, tau : parameters of the method proposed by Li and Cevher (see You et al.)\n",
    "    \n",
    "    [output]\n",
    "    same as the ouptut of the function \"iterating\"\n",
    "    \"\"\"\n",
    "    x = initialization\n",
    "    \n",
    "    function_values = [objective_function(x)]\n",
    "    iterates = [x]\n",
    "    elapsed_time = [0]\n",
    "    start_time = time.time()\n",
    "    \n",
    "    for _ in range(T):\n",
    "        gradient_x = gradient(x, a, w, alpha)  # gradient at x\n",
    "        \n",
    "        # line search\n",
    "        current_a = a_bar\n",
    "        x_next = iteration_rule(x, current_a)\n",
    "        while objective_function(x_next) > objective_function(x) + tau*np.dot(gradient_x, x_next - x):\n",
    "            current_a = r*current_a\n",
    "            x_next = iteration_rule(x, current_a)\n",
    "        \n",
    "        # show the iteration number to prevent getting stuck halfway when it has already achieve the optimal point.\n",
    "        print(_, end=\"\")  \n",
    "        \n",
    "        # get the next iterate\n",
    "        x = iteration_rule(x, current_a)\n",
    "        iterates.append(x)\n",
    "        \n",
    "        # evaluate the function value\n",
    "        if normalization:\n",
    "            function_values.append(objective_function(x/sum(x)))\n",
    "        else:\n",
    "            function_values.append(objective_function(x))\n",
    "        \n",
    "        # running time\n",
    "        elapsed_time.append(time.time() - start_time)\n",
    "    \n",
    "        \n",
    "    if plot:\n",
    "        plotting(function_values, elapsed_time)\n",
    "\n",
    "    return function_values, iterates, elapsed_time"
   ]
  },
  {
   "cell_type": "markdown",
   "id": "1e5246cf-34d7-4af9-9f43-dff6a80bee29",
   "metadata": {},
   "source": [
    "## Plotting"
   ]
  },
  {
   "cell_type": "code",
   "execution_count": 5,
   "id": "140e7b7f-d90c-4e54-bf77-0afa3d43d31e",
   "metadata": {},
   "outputs": [],
   "source": [
    "def plotting(function_values, elapsed_time):\n",
    "    f_star = function_values[-1]\n",
    "    f_star = min(function_values)\n",
    "    fig, axs = plt.subplots(1, 2, figsize=(10, 3))\n",
    "\n",
    "    axs[0].plot([ft-f_star for ft in function_values[:-1]])\n",
    "    axs[0].set_xlabel(\"Number of iterations\")\n",
    "    axs[0].set_ylabel(\"Approx. opt. error (log scale)\")\n",
    "    axs[0].set_yscale(\"log\")\n",
    "\n",
    "    axs[1].plot(elapsed_time, [ft-f_star for ft in function_values])\n",
    "    axs[1].set_yscale(\"log\")\n",
    "    axs[1].set_xlabel(\"Elapsed time (s)\")\n",
    "    axs[1].set_ylabel(\"Approx. opt. error (log scale)\")\n",
    "    \n",
    "def plot_approximation_error(all_alg, f_star=False, T=-1, bottom=None, top=None, left=None, right=None):\n",
    "    if not f_star:\n",
    "        f_star = min([min(function_values[alg]) for alg in all_alg])\n",
    "\n",
    "    label_name = {\"FP\": \"Fixed-point\", \"RGD\": \"RGD\", \"Polyak\": \"You et al.\", \"Armijo\": \"Li and Cevher\",}\n",
    "    \n",
    "    fig, axs = plt.subplots(1, 2, figsize=(10, 3))\n",
    "    for alg in all_alg:\n",
    "        axs[0].plot([ft-f_star for ft in function_values[alg][:T]], label=label_name[alg])\n",
    "        axs[1].plot(elapsed_time[alg], [ft-f_star for ft in function_values[alg]], label=label_name[alg])\n",
    "\n",
    "    # fig.suptitle(\"(relaxation) Augustin Information (alpha={}, D={}, N={})\".format(alpha, D, N))\n",
    "\n",
    "    axs[0].set_xlabel(\"Number of iterations\")\n",
    "    axs[0].set_ylabel(\"Approx. opt. error\")\n",
    "    axs[0].set_yscale(\"log\")\n",
    "    axs[0].set_ylim(bottom=bottom, top=top)\n",
    "    axs[0].legend()\n",
    "    axs[0].grid(which=\"both\")\n",
    "\n",
    "    axs[1].set_xlabel(\"Elapsed time (s)\")\n",
    "    axs[1].set_ylabel(\"Approx. opt. error\")\n",
    "    axs[1].set_yscale(\"log\")\n",
    "    axs[1].set_ylim(bottom=bottom, top=top)\n",
    "    axs[1].set_xlim(left=left, right=right)\n",
    "    axs[1].legend()\n",
    "    axs[1].grid(which=\"both\")"
   ]
  },
  {
   "cell_type": "code",
   "execution_count": 6,
   "id": "6dbf35a6-e964-4bb8-91b2-d793bcba263b",
   "metadata": {},
   "outputs": [],
   "source": [
    "algorithms = [\"FP\", \"RGD\", \"Armijo\", \"Polyak\"]\n",
    "\n",
    "function_values, iterates, elapsed_time = {}, {}, {}\n",
    "for i in algorithms:\n",
    "    function_values[i] = []\n",
    "    iterates[i] = []        \n",
    "    elapsed_time[i] = []"
   ]
  },
  {
   "cell_type": "markdown",
   "id": "b467029c",
   "metadata": {},
   "source": [
    "# Computing the Augustin Information"
   ]
  },
  {
   "cell_type": "code",
   "execution_count": 14,
   "id": "471d982a-580d-4fa2-b171-76fbd7c01c15",
   "metadata": {},
   "outputs": [],
   "source": [
    "# D: parameter dimension\n",
    "# N: support cardinality\n",
    "# T: number of iterations\n",
    "# a: random variable in the probability simplex\n",
    "# w: weights\n",
    "\n",
    "D, N = 2**4, 2**14\n",
    "T = 20\n",
    "\n",
    "a = []\n",
    "for i in range(N):\n",
    "    a.append(np.random.exponential(scale=1.0, size=D))\n",
    "    a[i] /= sum(a[i])\n",
    "a = np.array(a)\n",
    "w = np.random.rand(N)\n",
    "w /= sum(w)\n",
    "\n"
   ]
  },
  {
   "cell_type": "markdown",
   "id": "b8b2f2e9-487a-4709-91f3-a181c77506b0",
   "metadata": {},
   "source": [
    "## tuned parameters"
   ]
  },
  {
   "cell_type": "code",
   "execution_count": 15,
   "id": "59e29562-7aa4-4326-b37e-59a19c03b6f3",
   "metadata": {},
   "outputs": [
    {
     "name": "stdout",
     "output_type": "stream",
     "text": [
      "012345678910111213141516171819"
     ]
    }
   ],
   "source": [
    "## setting\n",
    "alpha = 3\n",
    "all_alg = [\"FP\", \"RGD\", \"Armijo\", \"Polyak\"]\n",
    "objective_function = get_objective(a, w, alpha)\n",
    "\n",
    "## initialization\n",
    "initialization = np.ones(D)/D\n",
    "\n",
    "## iterateing\n",
    "for alg in all_alg:\n",
    "    if alg == \"FP\":\n",
    "        iteration_rule = get_FP(a, w, alpha)\n",
    "        result = iterating(objective_function, initialization, iteration_rule, T)\n",
    "        \n",
    "    elif alg == \"RGD\":\n",
    "        iteration_rule = get_RGD(a, w, alpha)\n",
    "        result = iterating(objective_function, initialization, iteration_rule, T)\n",
    "        \n",
    "    elif alg == \"Armijo\":\n",
    "        iteration_rule = get_entropic_mirror_descent(a, w, alpha)\n",
    "        result = iterating_armijo(objective_function, initialization, iteration_rule, 20, \n",
    "                                  a_bar=0.4, r=0.7, tau=0.5)        \n",
    "        \n",
    "    elif alg == \"Polyak\":\n",
    "        iteration_rule = get_entropic_mirror_descent(a, w, alpha)\n",
    "        result = iterating_polyak(objective_function, initialization, iteration_rule, T,\n",
    "                                 delta=1e-5, beta=0.99, gamma=1.25, c=10)\n",
    "    \n",
    "    function_values[alg], iterates[alg], elapsed_time[alg] = result\n",
    "    \n",
    "f_star = function_values['Armijo'][-1]"
   ]
  },
  {
   "cell_type": "code",
   "execution_count": 16,
   "id": "70b89a5d-0589-4ae5-bc41-52908244b43c",
   "metadata": {},
   "outputs": [
    {
     "data": {
      "image/png": "[encoded data removed]",
      "text/plain": [
       "<Figure size 720x216 with 2 Axes>"
      ]
     },
     "metadata": {
      "needs_background": "light"
     },
     "output_type": "display_data"
    }
   ],
   "source": [
    "plot_approximation_error(all_alg, f_star=f_star, T=T, top=1e-4, bottom=1e-5, left=-0.1, right=0.8)\n",
    "# plot_approximation_error(all_alg, f_star=f_star, T=T, top=1e-3)\n"
   ]
  },
  {
   "cell_type": "markdown",
   "id": "9d42bbdb-40b0-48e3-a936-e86ec44c2b22",
   "metadata": {},
   "source": [
    "## bad parameters"
   ]
  },
  {
   "cell_type": "code",
   "execution_count": 17,
   "id": "cb71c8d2-40dc-4c95-b8d0-805ae4669b5c",
   "metadata": {},
   "outputs": [
    {
     "name": "stdout",
     "output_type": "stream",
     "text": [
      "012345678910111213141516171819"
     ]
    }
   ],
   "source": [
    "## setting\n",
    "alpha = 3\n",
    "all_alg = [\"FP\", \"RGD\", \"Armijo\", \"Polyak\"]\n",
    "objective_function = get_objective(a, w, alpha)\n",
    "\n",
    "## initialization\n",
    "initialization = np.ones(D)/D\n",
    "\n",
    "## iterateing\n",
    "for alg in all_alg:\n",
    "    if alg == \"FP\":\n",
    "        iteration_rule = get_FP(a, w, alpha)\n",
    "        result = iterating(objective_function, initialization, iteration_rule, T)\n",
    "        \n",
    "    elif alg == \"RGD\":\n",
    "        iteration_rule = get_RGD(a, w, alpha)\n",
    "        result = iterating(objective_function, initialization, iteration_rule, T)\n",
    "        \n",
    "    elif alg == \"Armijo\":\n",
    "        iteration_rule = get_entropic_mirror_descent(a, w, alpha)\n",
    "        result = iterating_armijo(objective_function, initialization, iteration_rule, T, \n",
    "                                  a_bar=0.04, r=0.7, tau=0.5)        \n",
    "        \n",
    "    elif alg == \"Polyak\":\n",
    "        iteration_rule = get_entropic_mirror_descent(a, w, alpha)\n",
    "        result = iterating_polyak(objective_function, initialization, iteration_rule, T, \n",
    "                                  delta=1e-5, beta=0.99, gamma=1.25, c=100)\n",
    "    \n",
    "    function_values[alg], iterates[alg], elapsed_time[alg] = result"
   ]
  },
  {
   "cell_type": "code",
   "execution_count": 18,
   "id": "5c60faad-b3f1-476b-bd3c-073f4bda7099",
   "metadata": {},
   "outputs": [
    {
     "data": {
      "image/png": "[encoded data removed]",
      "text/plain": [
       "<Figure size 720x216 with 2 Axes>"
      ]
     },
     "metadata": {
      "needs_background": "light"
     },
     "output_type": "display_data"
    }
   ],
   "source": [
    "plot_approximation_error(all_alg, f_star=f_star, T=T, top=1e-4, bottom=1e-5, left=-0.1, right=0.8)\n",
    "# plot_approximation_error(all_alg, f_star=f_star, T=T, top=1e-3)\n"
   ]
  },
  {
   "cell_type": "code",
   "execution_count": null,
   "id": "703cbf2b-c378-4189-961b-413bf6b5665d",
   "metadata": {},
   "outputs": [],
   "source": []
  }
 ],
 "metadata": {
  "kernelspec": {
   "display_name": "Python 3 (ipykernel)",
   "language": "python",
   "name": "python3"
  },
  "language_info": {
   "codemirror_mode": {
    "name": "ipython",
    "version": 3
   },
   "file_extension": ".py",
   "mimetype": "text/x-python",
   "name": "python",
   "nbconvert_exporter": "python",
   "pygments_lexer": "ipython3",
   "version": "3.9.7"
  },
  "toc-autonumbering": false,
  "toc-showcode": false,
  "toc-showmarkdowntxt": false,
  "toc-showtags": false
 },
 "nbformat": 4,
 "nbformat_minor": 5
}
